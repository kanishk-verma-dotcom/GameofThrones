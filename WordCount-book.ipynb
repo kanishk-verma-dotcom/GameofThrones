{
 "cells": [
  {
   "cell_type": "code",
   "execution_count": 1,
   "metadata": {},
   "outputs": [],
   "source": [
    "import pandas as pd\n",
    "from wordcloud import STOPWORDS"
   ]
  },
  {
   "cell_type": "code",
   "execution_count": 2,
   "metadata": {},
   "outputs": [],
   "source": [
    "dfAGOT = pd.read_csv('AGOT.csv')\n",
    "dfACOK = pd.read_csv('ACOK.csv')\n",
    "dfASOS = pd.read_csv('ASOS.csv')\n",
    "dfAFFC = pd.read_csv('AFFC.csv')\n",
    "dfADWD = pd.read_csv('ADWD.csv')"
   ]
  },
  {
   "cell_type": "code",
   "execution_count": 3,
   "metadata": {},
   "outputs": [],
   "source": [
    "stopwords = set(STOPWORDS)"
   ]
  },
  {
   "cell_type": "code",
   "execution_count": 4,
   "metadata": {},
   "outputs": [],
   "source": [
    "add_stopwords = ['The', 'He', 'She', 'will', 'Says', 'says', 'asks', 'go', 'take' ,'goes', 'want', 'Lord', 'Ser', 'lord',\n",
    "                'way', 'ways', 'Way', 'Ways', 'want', 'Wants', 'wants', 'Want', 'tells', 'one', 'man', 'men', 'think',\n",
    "                'thinks', 'three', 'will', 'must', 'They', 'three', 'well', 'time', 'back', 'As', 'two', 'night', 'When',\n",
    "                'day', 'next', 'still', 'see', 'Maester', 'comes', 'one', 'first', 'killed', 'now', 'make', 'leave', 'A',\n",
    "                'Lady', 'lady', 'years', 'takes', 'castle', 'son', 'new', 'come']"
   ]
  },
  {
   "cell_type": "code",
   "execution_count": 6,
   "metadata": {},
   "outputs": [],
   "source": [
    "for words in add_stopwords:\n",
    "    stopwords.add(words)"
   ]
  },
  {
   "cell_type": "code",
   "execution_count": 23,
   "metadata": {},
   "outputs": [],
   "source": [
    "def WordCount(dataframe):\n",
    "    counts = dict()\n",
    "    for chapters in dataframe.columns:\n",
    "        words = chapters.split()\n",
    "        for word in words:\n",
    "            word1 = word.replace(\".\", \"\")\n",
    "            word2 = word1.replace(\",\", \"\")\n",
    "            if word2 not in stopwords:\n",
    "                if word2 in counts:\n",
    "                    counts[word2]+=1\n",
    "                else:\n",
    "                    counts[word2] = 1\n",
    "    return(counts)"
   ]
  },
  {
   "cell_type": "code",
   "execution_count": 34,
   "metadata": {},
   "outputs": [],
   "source": [
    "a = WordCount(dfADWD)\n",
    "dfCount = pd.DataFrame(columns=[\"Word\",\"Count\"])\n",
    "dfCount[\"Word\"] = a.keys()\n",
    "dfCount[\"Count\"] = a.values()"
   ]
  },
  {
   "cell_type": "code",
   "execution_count": 35,
   "metadata": {},
   "outputs": [],
   "source": [
    "dfCount.to_csv(\"Book5-Count.csv\", index=False)"
   ]
  },
  {
   "cell_type": "code",
   "execution_count": null,
   "metadata": {},
   "outputs": [],
   "source": []
  }
 ],
 "metadata": {
  "kernelspec": {
   "display_name": "Python 3",
   "language": "python",
   "name": "python3"
  },
  "language_info": {
   "codemirror_mode": {
    "name": "ipython",
    "version": 3
   },
   "file_extension": ".py",
   "mimetype": "text/x-python",
   "name": "python",
   "nbconvert_exporter": "python",
   "pygments_lexer": "ipython3",
   "version": "3.7.3"
  }
 },
 "nbformat": 4,
 "nbformat_minor": 2
}
